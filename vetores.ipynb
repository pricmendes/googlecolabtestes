{
  "nbformat": 4,
  "nbformat_minor": 0,
  "metadata": {
    "colab": {
      "provenance": [],
      "authorship_tag": "ABX9TyNDv6D370czPz7iZtUsBrRA",
      "include_colab_link": true
    },
    "kernelspec": {
      "name": "python3",
      "display_name": "Python 3"
    },
    "language_info": {
      "name": "python"
    }
  },
  "cells": [
    {
      "cell_type": "markdown",
      "metadata": {
        "id": "view-in-github",
        "colab_type": "text"
      },
      "source": [
        "<a href=\"https://colab.research.google.com/github/pricmendes/googlecolabtestes/blob/main/vetores.ipynb\" target=\"_parent\"><img src=\"https://colab.research.google.com/assets/colab-badge.svg\" alt=\"Open In Colab\"/></a>"
      ]
    },
    {
      "cell_type": "code",
      "execution_count": null,
      "metadata": {
        "colab": {
          "base_uri": "https://localhost:8080/"
        },
        "id": "SMkqAPRRRx1W",
        "outputId": "a6b0ee99-7768-4455-e354-a0c77d66abb9"
      },
      "outputs": [
        {
          "output_type": "stream",
          "name": "stdout",
          "text": [
            "Definição de Vetores\n",
            "\n",
            "Tamanho do vetor vazio é:  0\n",
            "Novo tamanho do vetor vazio é:  9\n",
            "Valores agora no vetor vazio são:  [0, 1, 2, 3, 4, 5, 6, 7, 8]\n",
            "Valores dos vetores inteiros são:  [1, 2, 3, 4, 5, 6, 7]\n",
            "O valor na posição  0  é  1\n",
            "O valor na posição  1  é  2\n",
            "O valor na posição  2  é  3\n",
            "O valor na posição  3  é  4\n",
            "O valor na posição  4  é  5\n",
            "O valor na posição  5  é  6\n",
            "O valor na posição  6  é  7\n",
            "O valor na posição  0  é  ['Maria', 'Gui', 'Jô', 'Edu', 'João', 'Carlos', 'Joaquina']\n",
            "O valor na posição  1  é  ['Maria', 'Gui', 'Jô', 'Edu', 'João', 'Carlos', 'Joaquina']\n",
            "O valor na posição  2  é  ['Maria', 'Gui', 'Jô', 'Edu', 'João', 'Carlos', 'Joaquina']\n",
            "O valor na posição  3  é  ['Maria', 'Gui', 'Jô', 'Edu', 'João', 'Carlos', 'Joaquina']\n",
            "O valor na posição  4  é  ['Maria', 'Gui', 'Jô', 'Edu', 'João', 'Carlos', 'Joaquina']\n",
            "O valor na posição  5  é  ['Maria', 'Gui', 'Jô', 'Edu', 'João', 'Carlos', 'Joaquina']\n",
            "O valor na posição  6  é  ['Maria', 'Gui', 'Jô', 'Edu', 'João', 'Carlos', 'Joaquina']\n",
            "O valor na posição  7  é  ['Maria', 'Gui', 'Jô', 'Edu', 'João', 'Carlos', 'Joaquina']\n",
            "Valores nos vetores reais são:  [1.2, 3.5, 12.3, 4.2]\n"
          ]
        }
      ],
      "source": [
        "# Vetores\n",
        "print(\"Definição de Vetores\\n\")\n",
        "\n",
        "def main():\n",
        "\t\tvetorVazio = []\n",
        "\t\tvetorVazio2 = list\n",
        "\n",
        "\t\t#imprime o tamanho do vetor\n",
        "\t\tprint(\"Tamanho do vetor vazio é: \", len(vetorVazio))\n",
        "\t\tfor i in range(9):\n",
        "\t\t\t#acrescentando um valor no final do vetor\n",
        "\t\t\tvetorVazio.append(i)\n",
        "\n",
        "\t\tprint(\"Novo tamanho do vetor vazio é: \", len(vetorVazio))\n",
        "\t\tprint(\"Valores agora no vetor vazio são: \", vetorVazio)\n",
        "\n",
        "\t\tvetorInteiros =  [1, 2, 3, 4, 5, 6, 7]\n",
        "\n",
        "\n",
        "\t\t#imprime [1, 2, 3, 4, 5, 6, 7]\n",
        "\t\tprint(\"Valores dos vetores inteiros são: \", vetorInteiros) #retirei[i] antes vetorInteiros[i]) depois vetorInteiros)\n",
        "\n",
        "\t\tfor i in range(0, len(vetorInteiros)):\n",
        "\t\t\t#imrpime a posição e o valor da posição\n",
        "\t\t\tprint(\"O valor na posição \", i, \" é \", vetorInteiros[i])\n",
        "\n",
        "\t\tvetorCaracteres = [\"Maria\", \"Gui\", \"Jô\", \"Edu\", \"João\", \"Carlos\", \"Joaquina\"]\n",
        "\n",
        "\t\tfor i in range(len(vetorCaracteres[i])):\n",
        "\t\t\tprint(\"O valor na posição \", i, \" é \", vetorCaracteres) #retirei[i] antes vetorCaracteres[i]) depois vetorCaracteres)\n",
        "\n",
        "\t\tvetoresReais = [1.2, 3.5, 12.3, 4.2]\n",
        "\t\tprint(\"Valores nos vetores reais são: \", vetoresReais)\n",
        "\n",
        "main()\n",
        "\n",
        "#append inclui e pop retira\n"
      ]
    }
  ]
}